{
 "cells": [
  {
   "cell_type": "markdown",
   "metadata": {},
   "source": [
    "# Estimator(Custom)\n",
    "![image](https://www.tensorflow.org/images/tensorflow_programming_environment.png)\n",
    "![image2](https://www.tensorflow.org/images/custom_estimators/estimator_types.png)\n",
    "- Tensorflow High Level API\n",
    "- [Tensorflow 공식 문서](https://www.tensorflow.org/get_started/custom_estimators)\n",
    "- 미리 정의된 모델(pre-made) 말고도 custom하게 estimator 사용 가능\n",
    "- tf.Session을 따로 관리할 필요 없으며, ```tf.global_variables_initializer()``` ```tf.local_variables_initializer()```도 필요없음\n",
    "- 이 글에선 custom estimator에 대해 이야기함"
   ]
  },
  {
   "cell_type": "markdown",
   "metadata": {},
   "source": [
    "## 구성 요소\n",
    "- ```input_fn()``` : feature, label return, feature는 dict으로!\n",
    "- ```model_fn(features, labels, mode)``` : mode별로 분기 => train은 loss, op, evaluate는 pred, accuracy, pred는 prob, class\n",
    "- ```est = tf.estimator.Estimator(model_fn)```\n",
    "    - ```est.train(input_fn, steps=500)```\n",
    "    - ```est.evaluate(input_fn, steps=10)```\n",
    "    - ```est.predict(pred_input_fn = tf.estimator.inputs.numpy_input_fn({'feature': data}))```"
   ]
  },
  {
   "cell_type": "markdown",
   "metadata": {},
   "source": [
    "## 참고 자료\n",
    "- [이찬우님 유튜브](https://www.youtube.com/watch?v=4vJ_2NtsTVg&list=PL1H8jIvbSo1piZJRnp9bIww8Fp2ddIpeR&index=4)"
   ]
  },
  {
   "cell_type": "markdown",
   "metadata": {},
   "source": [
    "---"
   ]
  },
  {
   "cell_type": "code",
   "execution_count": 43,
   "metadata": {},
   "outputs": [],
   "source": [
    "import tensorflow as tf\n",
    "import numpy as np\n",
    "\n",
    "\n",
    "# 아래 값들은 Task마다 다르게 설정\n",
    "BATCH_SIZE = 100\n",
    "n_hidden = 9\n",
    "n_input = 1"
   ]
  },
  {
   "cell_type": "markdown",
   "metadata": {},
   "source": [
    "## input_function"
   ]
  },
  {
   "cell_type": "code",
   "execution_count": null,
   "metadata": {},
   "outputs": [],
   "source": [
    "def input_fn():\n",
    "    '''\n",
    "    data load하고 feature, label을 return\n",
    "    단, feature는 dict 형식으로 넣어서 predict때도 사용할 수 있도록 함\n",
    "    '''\n",
    "    def map_function(record):\n",
    "        return record\n",
    "    \n",
    "    dataset = tf.data.TFRecordDataset(\"path\")\\ # 또는 TextLineDataset\n",
    "            .batch(BATCH_SIZE)\\\n",
    "            .repeat(9999) # repeat 횟수는 데이터가 적을 때 사용\n",
    "            .make_one_shot_iterator()\\\n",
    "            .get_next()\n",
    "            \n",
    "    lines = tf.decode_csv(dataset)\n",
    "    feature = tf.stack(lines[1:], axis=1)\n",
    "    label = tf.expand_dims(lines[0], axis=-1)    \n",
    "\n",
    "    feature = tf.cast(feature, tf.float32)\n",
    "    label = tf.cast(label, tf.float32)\n",
    "    \n",
    "    return {'feature': feature}, label"
   ]
  },
  {
   "cell_type": "markdown",
   "metadata": {},
   "source": [
    "## model_function"
   ]
  },
  {
   "cell_type": "code",
   "execution_count": 29,
   "metadata": {},
   "outputs": [],
   "source": [
    "def model_fn(features, labels, mode, params={}):\n",
    "    '''\n",
    "    mode별로 분기 => train은 loss, op, evaluate는 pred, accuracy\n",
    "    params는 상황에 다라 다름. 하이퍼파라미터\n",
    "    '''\n",
    "    \n",
    "    TRAIN = mode == tf.estimator.ModeKeys.TRAIN\n",
    "    EVAL = mode == tf.estimator.ModeKeys.EVAL\n",
    "    PRED = mode == tf.estimator.ModeKeys.PREDICT\n",
    "    \n",
    "    def layer_function(features):\n",
    "        '''\n",
    "        scope 이름을 줄 경우, 간단한 구조라면 tf.layers.dense 등만 사용해도 무방\n",
    "        '''\n",
    "        with tf.variable_scope(\"scope-name\"):\n",
    "            layer = tf.layer.dense(features[\"feature\"], units=n_hidden, activation=tf.nn.relu)\n",
    "        return layer\n",
    "    \n",
    "    layer1 = layer_function(features)\n",
    "    layer2 = tf.layers.dense(layer1, units=n_hidden, activation=tf.nn.relu, name='optional_name')\n",
    "    layer3 = tf.layers.dense(layer2, units=n_hidden, activation=tf.nn.relu, name='optional_name')\n",
    "    layer4 = tf.layers.dense(layer3, units=n_hidden, activation=tf.nn.relu, name='optional_name')\n",
    "    out = tf.layers.dense(layer4, units=n_input)\n",
    "    \n",
    "    if TRAIN:\n",
    "        global_step = tf.train.get_global_step()\n",
    "        loss = tf.losses.sigmoid_cross_entropy(labels, out)\n",
    "        train_op = tf.train.GradientDescentOptimizer(1e-2).minimize(loss, global_step=global_step)\n",
    "        return tf.estimator.EstimatorSpec(mode=mode, loss=loss, train_op=train_op)\n",
    "        \n",
    "    elif EVAL:\n",
    "        loss = tf.losses.sigmoid_cross_entropy(labels, out) # test loss\n",
    "        pred = tf.nn.sigmoid(out)\n",
    "        \n",
    "        accuracy = tf.metrics.accuracy(labels=labels, predictions=tf.round(pred), name='accuracy')\n",
    "        # predictions는 상황에 따라 pred를 그냥 넣을수도 있고, round로 반올림할 경우도 있음\n",
    "        # Task by Task\n",
    "        \n",
    "        return tf.estimator.EstimatorSpec(mode=mode, loss=loss, eval_metric_ops={'acc': accuracy})\n",
    "        \n",
    "    elif PRED:\n",
    "        prob = tf.nn.sigmoid(out)\n",
    "        _class = tf.round(prob)\n",
    "        return tf.estimator.EstimatorSpec(mode=mode, predictions={'prob': prob, 'class': _class})"
   ]
  },
  {
   "cell_type": "code",
   "execution_count": 41,
   "metadata": {},
   "outputs": [
    {
     "name": "stdout",
     "output_type": "stream",
     "text": [
      "INFO:tensorflow:Using default config.\n",
      "WARNING:tensorflow:Using temporary folder as model directory: /var/folders/f7/lrsclmhd6mx2hgq049xw8dv80000gn/T/tmpnjf2yyyn\n",
      "INFO:tensorflow:Using config: {'_model_dir': '/var/folders/f7/lrsclmhd6mx2hgq049xw8dv80000gn/T/tmpnjf2yyyn', '_tf_random_seed': None, '_save_summary_steps': 100, '_save_checkpoints_steps': None, '_save_checkpoints_secs': 600, '_session_config': None, '_keep_checkpoint_max': 5, '_keep_checkpoint_every_n_hours': 10000, '_log_step_count_steps': 100, '_train_distribute': None, '_service': None, '_cluster_spec': <tensorflow.python.training.server_lib.ClusterSpec object at 0x12322c9e8>, '_task_type': 'worker', '_task_id': 0, '_global_id_in_cluster': 0, '_master': '', '_evaluation_master': '', '_is_chief': True, '_num_ps_replicas': 0, '_num_worker_replicas': 1}\n",
      "INFO:tensorflow:Calling model_fn.\n",
      "INFO:tensorflow:Done calling model_fn.\n",
      "INFO:tensorflow:Create CheckpointSaverHook.\n",
      "INFO:tensorflow:Graph was finalized.\n",
      "INFO:tensorflow:Running local_init_op.\n",
      "INFO:tensorflow:Done running local_init_op.\n",
      "INFO:tensorflow:Saving checkpoints for 1 into /var/folders/f7/lrsclmhd6mx2hgq049xw8dv80000gn/T/tmpnjf2yyyn/model.ckpt.\n",
      "INFO:tensorflow:loss = 0.6336597, step = 1\n",
      "INFO:tensorflow:global_step/sec: 773.971\n",
      "INFO:tensorflow:loss = 0.063303, step = 101 (0.130 sec)\n",
      "INFO:tensorflow:global_step/sec: 1717.8\n",
      "INFO:tensorflow:loss = 0.011939027, step = 201 (0.058 sec)\n",
      "INFO:tensorflow:global_step/sec: 1655.41\n",
      "INFO:tensorflow:loss = 0.0056393184, step = 301 (0.060 sec)\n",
      "INFO:tensorflow:global_step/sec: 1709.7\n",
      "INFO:tensorflow:loss = 0.0034946266, step = 401 (0.058 sec)\n",
      "INFO:tensorflow:Saving checkpoints for 500 into /var/folders/f7/lrsclmhd6mx2hgq049xw8dv80000gn/T/tmpnjf2yyyn/model.ckpt.\n",
      "INFO:tensorflow:Loss for final step: 0.0012561312.\n",
      "INFO:tensorflow:Calling model_fn.\n",
      "INFO:tensorflow:Done calling model_fn.\n",
      "INFO:tensorflow:Starting evaluation at 2018-06-29-13:17:26\n",
      "INFO:tensorflow:Graph was finalized.\n",
      "INFO:tensorflow:Restoring parameters from /var/folders/f7/lrsclmhd6mx2hgq049xw8dv80000gn/T/tmpnjf2yyyn/model.ckpt-500\n",
      "INFO:tensorflow:Running local_init_op.\n",
      "INFO:tensorflow:Done running local_init_op.\n",
      "INFO:tensorflow:Evaluation [1/10]\n",
      "INFO:tensorflow:Evaluation [2/10]\n",
      "INFO:tensorflow:Evaluation [3/10]\n",
      "INFO:tensorflow:Evaluation [4/10]\n",
      "INFO:tensorflow:Evaluation [5/10]\n",
      "INFO:tensorflow:Evaluation [6/10]\n",
      "INFO:tensorflow:Evaluation [7/10]\n",
      "INFO:tensorflow:Evaluation [8/10]\n",
      "INFO:tensorflow:Evaluation [9/10]\n",
      "INFO:tensorflow:Evaluation [10/10]\n",
      "INFO:tensorflow:Finished evaluation at 2018-06-29-13:17:27\n",
      "INFO:tensorflow:Saving dict for global step 500: acc = 1.0, global_step = 500, loss = 0.0018566784\n",
      "INFO:tensorflow:Calling model_fn.\n",
      "INFO:tensorflow:Done calling model_fn.\n",
      "INFO:tensorflow:Graph was finalized.\n",
      "INFO:tensorflow:Restoring parameters from /var/folders/f7/lrsclmhd6mx2hgq049xw8dv80000gn/T/tmpnjf2yyyn/model.ckpt-500\n",
      "INFO:tensorflow:Running local_init_op.\n",
      "INFO:tensorflow:Done running local_init_op.\n",
      "feature: [1. 2. 3. 4. 5. 6. 7. 8. 9.], prob: [0.99949217], class: [1.]\n",
      "feature: [5. 5. 5. 5. 5. 5. 5. 5. 5.], prob: [0.6270031], class: [1.]\n",
      "feature: [9. 8. 7. 6. 5. 4. 3. 2. 1.], prob: [0.00072852], class: [0.]\n"
     ]
    }
   ],
   "source": [
    "if __name__ == '__main__':\n",
    "    tf.logging.set_verbosity(tf.logging.INFO)\n",
    "    est = tf.estimator.Estimator(model_fn)\n",
    "    est.train(input_fn, steps=500)\n",
    "    est.evaluate(input_fn, steps=10)\n",
    "    \n",
    "    data1 = np.array([1,2,3,4,5,6,7,8,9], np.float32)\n",
    "    data2 = np.array([5,5,5,5,5,5,5,5,5], np.float32)\n",
    "    data3 = np.array([9-i for i in range(9)], np.float32)\n",
    "    data = np.stack([data1, data2, data3]) # 여러 데이터 input\n",
    "    \n",
    "    pred_input_fn = tf.estimator.inputs.numpy_input_fn({'feature': data}, shuffle=False)\n",
    "    for d, pred in zip(data, est.predict(pred_input_fn)):\n",
    "        print('feature: {}, prob: {}, class: {}'.format(d, pred['prob'], pred['class']))"
   ]
  }
 ],
 "metadata": {
  "kernelspec": {
   "display_name": "Python 3",
   "language": "python",
   "name": "python3"
  },
  "language_info": {
   "codemirror_mode": {
    "name": "ipython",
    "version": 3
   },
   "file_extension": ".py",
   "mimetype": "text/x-python",
   "name": "python",
   "nbconvert_exporter": "python",
   "pygments_lexer": "ipython3",
   "version": "3.6.5"
  },
  "varInspector": {
   "cols": {
    "lenName": 16,
    "lenType": 16,
    "lenVar": 40
   },
   "kernels_config": {
    "python": {
     "delete_cmd_postfix": "",
     "delete_cmd_prefix": "del ",
     "library": "var_list.py",
     "varRefreshCmd": "print(var_dic_list())"
    },
    "r": {
     "delete_cmd_postfix": ") ",
     "delete_cmd_prefix": "rm(",
     "library": "var_list.r",
     "varRefreshCmd": "cat(var_dic_list()) "
    }
   },
   "types_to_exclude": [
    "module",
    "function",
    "builtin_function_or_method",
    "instance",
    "_Feature"
   ],
   "window_display": false
  }
 },
 "nbformat": 4,
 "nbformat_minor": 2
}

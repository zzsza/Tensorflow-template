{
 "cells": [
  {
   "cell_type": "code",
   "execution_count": 2,
   "metadata": {},
   "outputs": [
    {
     "name": "stdout",
     "output_type": "stream",
     "text": [
      "1.8.0\n"
     ]
    }
   ],
   "source": [
    "import tensorflow as tf\n",
    "print(tf.__version__)"
   ]
  },
  {
   "cell_type": "markdown",
   "metadata": {},
   "source": [
    "## 참고 자료\n",
    "- [MoT Tensorflow 자료, 양서연님, 강재욱님](https://motlabs.github.io/2018-06-11/tfpattern-week2/)\n",
    "- 핸즈온 머신러닝"
   ]
  },
  {
   "cell_type": "markdown",
   "metadata": {},
   "source": [
    "# Tensorflow\n",
    "- Graph 생성\n",
    "    - import tensorflow시 기본 그래프 생성 (```tf.get_default_graph()```)\n",
    "    - tf의 method를 정의할 경우 기본 그래프에 연결\n",
    "    - 새로운 그래프를 생성하고 싶다면 ```new_graph = tf.Graph()```\n",
    "    - 새로운 그래프에 method를 연결하고 싶다면 ```with new_graph.as_default()``` 사용\n",
    "- Graph 실행\n",
    "    - tf.Session : Session을 실행해서 파이프라인 시작\n",
    "    - session.run : 그래프 계산 run, backpropagation 포함\n",
    "    - with tf.Session : 를 사용하면 close할 필요 없음"
   ]
  },
  {
   "cell_type": "code",
   "execution_count": 6,
   "metadata": {},
   "outputs": [],
   "source": [
    "default_graph = tf.get_default_graph()"
   ]
  },
  {
   "cell_type": "code",
   "execution_count": 10,
   "metadata": {},
   "outputs": [],
   "source": [
    "new_graph = tf.Graph()"
   ]
  },
  {
   "cell_type": "code",
   "execution_count": 11,
   "metadata": {},
   "outputs": [
    {
     "data": {
      "text/plain": [
       "False"
      ]
     },
     "execution_count": 11,
     "metadata": {},
     "output_type": "execute_result"
    }
   ],
   "source": [
    "default_graph is new_graph"
   ]
  },
  {
   "cell_type": "code",
   "execution_count": 14,
   "metadata": {},
   "outputs": [
    {
     "data": {
      "text/plain": [
       "False"
      ]
     },
     "execution_count": 14,
     "metadata": {},
     "output_type": "execute_result"
    }
   ],
   "source": [
    "new_graph is tf.get_default_graph()"
   ]
  },
  {
   "cell_type": "code",
   "execution_count": 15,
   "metadata": {},
   "outputs": [
    {
     "name": "stdout",
     "output_type": "stream",
     "text": [
      "True\n"
     ]
    }
   ],
   "source": [
    "with new_graph.as_default():\n",
    "    print(new_graph is tf.get_default_graph())"
   ]
  },
  {
   "cell_type": "code",
   "execution_count": 16,
   "metadata": {},
   "outputs": [
    {
     "data": {
      "text/plain": [
       "False"
      ]
     },
     "execution_count": 16,
     "metadata": {},
     "output_type": "execute_result"
    }
   ],
   "source": [
    "new_graph is tf.get_default_graph()"
   ]
  },
  {
   "cell_type": "markdown",
   "metadata": {},
   "source": [
    "## name_scope\n",
    "- ```tf.name_scope``` : 네임스코프로 관리하기 쉽게 도와줌"
   ]
  },
  {
   "cell_type": "code",
   "execution_count": 26,
   "metadata": {},
   "outputs": [
    {
     "name": "stdout",
     "output_type": "stream",
     "text": [
      "Tensor(\"c_6:0\", shape=(), dtype=float64) \n",
      " Tensor(\"prefix_5/c:0\", shape=(), dtype=int32) \n",
      " Tensor(\"prefix_5/c_1:0\", shape=(), dtype=float64)\n"
     ]
    }
   ],
   "source": [
    "c1 = tf.constant(4, dtype=tf.float64, name='c')\n",
    "with tf.name_scope(\"prefix\"):\n",
    "    c2 = tf.constant(4, dtype=tf.int32, name='c')\n",
    "    c3 = tf.constant(4, dtype=tf.float64, name='c')\n",
    "print(c1,\"\\n\",c2,\"\\n\",c3)"
   ]
  },
  {
   "cell_type": "markdown",
   "metadata": {},
   "source": [
    "## Variable\n",
    "- ```tf.Variable``` : 변수에 메모리 할당\n",
    "- ```tf.get_Variable``` : 변수를 재사용해 메모리 관점에서 효율적\n",
    "- ```tf.global_variables.initializer()``` : 초기화 함수를 세션에서 수행\n",
    "\n",
    "---\n",
    "\n",
    "- ```tf.constant``` : 계산 그래프 안에 함께 값을 저장, Session 안에서 Variable보다 빠름. graph 사이즈 증가\n",
    "- ```tf.Variable``` : 계산 그래프 안에 주소값만 저장, graph size 큰 증가 없고 checkpoint에 저장\n",
    "\n",
    "---\n",
    "\n",
    "- ```tf.Variable``` vs ```tf.variable_scope()```\n",
    "- tf.Variable(<initial-value>, name=<optional-name>\n",
    "    - shape와 initializer를 구분해서 정의하지 못함\n",
    "- ```tf.variable_scope()```로 variable scope를 정의(prefix 포함)한 후, ```tf.get_variable()``` : variable 선언\n",
    "    - ```prefix/variable_name```으로 variable name 구분 가능\n",
    "- Model Compression을 위한 weight sharing 기법 구현에 유용 : [링크](https://www.tensorflow.org/versions/r1.0/programmers_guide/variable_scope)\n",
    "\n",
    "### tf.variable_scope()와 tf.name_scope()의 차이\n",
    "- ```tf.name_scope()```\n",
    "    - 텐서의 이름에 prefix를 붙임\n",
    "    - 그래프를 모듈화해 Tensorboard에서 깔끔한 그래프 시각화 가능\n",
    "- ```tf.varialbe_scope()``` \n",
    "    - variable name에 prefix를 붙여줌\n",
    "    - ```tf.get_variable()```과 함께 파라미터 공유시 이용\n",
    "   "
   ]
  },
  {
   "cell_type": "markdown",
   "metadata": {},
   "source": [
    "### tf.placeholder()와 data feeding\n",
    "- 평가 실행 중 같은 그래프 연산을 다른 입력값을 가지고 반복 수행 가능\n",
    "- mini batch learning 가능\n",
    "- 왜 tf.placeholder()를 사용하는가?\n",
    "    - tf.constant, tf.Variable은 그래프 정의시 초기화해야 하는데, 훈련 데이터는 우리가 모르는 값임\n",
    "    - 훈련 데이터를 constant로 잡으면 graph 사이즈가 매우 커짐\n",
    "- tf.placeholder의 장점\n",
    "    - 임의의 훈련 데이터 값을 그래프의 입출력으로 줄 수 있음\n",
    "- tf.placeholder의 단점\n",
    "    - session 안에서 메모리를 할당하고 로드해서 bottleneck\n",
    "    \n",
    "-\n",
    "\n",
    "### tf.Variable\n",
    "- class\n",
    "- 초기값 필요 (종종 random)\n",
    "- 훈련 중 derive 가능\n",
    "\n",
    "### tf.placeholders\n",
    "- operator\n",
    "- 이미지 픽셀 데이터같은 데이터도 가능\n",
    "- 초기값 필요 없음"
   ]
  }
 ],
 "metadata": {
  "kernelspec": {
   "display_name": "Python 3",
   "language": "python",
   "name": "python3"
  },
  "language_info": {
   "codemirror_mode": {
    "name": "ipython",
    "version": 3
   },
   "file_extension": ".py",
   "mimetype": "text/x-python",
   "name": "python",
   "nbconvert_exporter": "python",
   "pygments_lexer": "ipython3",
   "version": "3.6.5"
  },
  "varInspector": {
   "cols": {
    "lenName": 16,
    "lenType": 16,
    "lenVar": 40
   },
   "kernels_config": {
    "python": {
     "delete_cmd_postfix": "",
     "delete_cmd_prefix": "del ",
     "library": "var_list.py",
     "varRefreshCmd": "print(var_dic_list())"
    },
    "r": {
     "delete_cmd_postfix": ") ",
     "delete_cmd_prefix": "rm(",
     "library": "var_list.r",
     "varRefreshCmd": "cat(var_dic_list()) "
    }
   },
   "types_to_exclude": [
    "module",
    "function",
    "builtin_function_or_method",
    "instance",
    "_Feature"
   ],
   "window_display": false
  }
 },
 "nbformat": 4,
 "nbformat_minor": 2
}
